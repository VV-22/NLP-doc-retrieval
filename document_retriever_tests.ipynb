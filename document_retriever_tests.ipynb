{
 "cells": [
  {
   "cell_type": "code",
   "execution_count": 1,
   "metadata": {},
   "outputs": [],
   "source": [
    "from joblib import dump, load\n",
    "import numpy as np\n",
    "import matplotlib.pyplot as plt\n",
    "import seaborn as sns\n",
    "import pandas as pd\n",
    "from transformers import AutoModelForQuestionAnswering, AutoTokenizer, pipeline\n",
    "import string\n",
    "from collections import Counter"
   ]
  },
  {
   "cell_type": "code",
   "execution_count": 2,
   "metadata": {},
   "outputs": [],
   "source": [
    "TFIDFEmbedding = load(\"TFIDFEmbedding.joblib\")\n",
    "KNNModel = load(\"KNNModel.joblib\")\n",
    "\n",
    "sbert = load(\"sbert.joblib\")\n",
    "faiss = load(\"faiss.joblib\")\n",
    "\n",
    "bm25 = load(\"bm25.joblib\")\n",
    "\n",
    "df = pd.read_csv(\"synthetic_names_samples.csv\")\n",
    "docs = df['transcription'].tolist()"
   ]
  },
  {
   "cell_type": "code",
   "execution_count": 3,
   "metadata": {},
   "outputs": [],
   "source": [
    "questions = []\n",
    "answers = []\n",
    "\n",
    "questions.append(\"What is Charlie Harlow's dosage?\")\n",
    "answers.append(0)\n",
    "\n",
    "questions.append(\"What is the age of the patient with name Jenna Lundsten and has bladder cancer?\")\n",
    "answers.append(113)\n",
    "\n",
    "questions.append(\"What was the procedure done for Richard Jasso, who had heavy tobacco abuse?\")\n",
    "answers.append(793)\n",
    "\n",
    "questions.append(\"How did we obtain consent for surgery for Dorothy Robinson?\")\n",
    "answers.append(818)\n",
    "\n",
    "questions.append(\"What is the procedure performed on the 55 year old female who is having a colonoscopy to screen for colon cancer?\")\n",
    "answers.append(976)\n",
    "\n",
    "questions.append(\"What happened to the Michael Dunstan who takes hydrochlorothiazide for hypertension?\")\n",
    "answers.append(13)\n",
    "\n",
    "questions.append(\"What is the operation done on Michael Neal?\")\n",
    "answers.append(1162)\n",
    "\n",
    "questions.append(\"What is the medication given to Karen Lewis?\")\n",
    "answers.append(1449)\n",
    "\n",
    "questions.append(\"What is the impression on Adam Juarez who took an MRI?\")\n",
    "answers.append(1546)\n",
    "\n",
    "questions.append(\"What were the symptoms on Jason Olguin who was given amphotericin?\")\n",
    "answers.append(1593)\n"
   ]
  },
  {
   "cell_type": "code",
   "execution_count": 4,
   "metadata": {},
   "outputs": [],
   "source": [
    "knn_answers = []\n",
    "faiss_answers = []\n",
    "bm25_answers = []\n",
    "\n",
    "sbert.tokenizer.pad_token = \"[UNK]\"\n",
    "sbert.tokenizer.pad_token_id = sbert.tokenizer.convert_tokens_to_ids(\"[UNK]\")\n",
    "for question in questions: \n",
    "    # TFIDF + KNN\n",
    "    tfidf = TFIDFEmbedding.transform([question])\n",
    "    knn_ans = KNNModel.kneighbors(tfidf , return_distance=False)\n",
    "    knn_answers.append(knn_ans)\n",
    "\n",
    "    # SBERT + FAISS\n",
    "    sbert_embedding = sbert.encode([question]).astype('float32')\n",
    "    dustabces, indices = faiss.search(sbert_embedding , 10)\n",
    "    faiss_answers.append(indices)\n",
    "\n",
    "    # BM25\n",
    "    bm_tokens = question.lower().split()\n",
    "    bm_scores = np.argsort(bm25.get_scores(bm_tokens))[::-1][:10]\n",
    "    bm25_answers.append(bm_scores)"
   ]
  },
  {
   "cell_type": "code",
   "execution_count": 5,
   "metadata": {},
   "outputs": [],
   "source": [
    "# Accuracy scores:\n",
    "faiss_accuracy = 0\n",
    "bm25_accuracy = 0\n",
    "knn_accuracy = 0\n",
    "\n",
    "faiss_inverse = 0\n",
    "bm25_inverse = 0\n",
    "knn_inverse = 0\n",
    "\n",
    "for i in range(0, 10, 1):\n",
    "    if(answers[i] in knn_answers[i]):\n",
    "        knn_accuracy+=1\n",
    "        knn_index = knn_answers[i].tolist()[0].index(answers[i]) + 1\n",
    "        knn_inverse += (1/knn_index)\n",
    "    if(answers[i] in faiss_answers[i]):\n",
    "        faiss_accuracy+=1\n",
    "        faiss_index = faiss_answers[i].tolist()[0].index(answers[i]) + 1\n",
    "        faiss_inverse += (1/faiss_index)\n",
    "    if(answers[i] in bm25_answers[i]):\n",
    "        bm25_accuracy+=1\n",
    "        bm_index = bm25_answers[i].tolist().index(answers[i]) + 1\n",
    "        bm25_inverse += (1/bm_index)"
   ]
  },
  {
   "cell_type": "code",
   "execution_count": 6,
   "metadata": {},
   "outputs": [
    {
     "name": "stdout",
     "output_type": "stream",
     "text": [
      "knn accuracy :   5\n",
      "faiss accuracy :   7\n",
      "bm25 accuracy :   7\n"
     ]
    }
   ],
   "source": [
    "print(\"knn accuracy :  \" , knn_accuracy )\n",
    "print(\"faiss accuracy :  \" , faiss_accuracy )\n",
    "print(\"bm25 accuracy :  \" , bm25_accuracy )"
   ]
  },
  {
   "cell_type": "code",
   "execution_count": 7,
   "metadata": {},
   "outputs": [],
   "source": [
    "knn_mrr = knn_inverse / len(answers)\n",
    "faiss_mrr = faiss_inverse / len(answers)\n",
    "bm25_mrr = bm25_inverse / len(answers)"
   ]
  },
  {
   "cell_type": "code",
   "execution_count": 8,
   "metadata": {},
   "outputs": [
    {
     "name": "stdout",
     "output_type": "stream",
     "text": [
      "knn mrr :  0.35\n",
      "faiss mrr :  0.4444444444444445\n",
      "bm25 mrr :  0.5833333333333333\n"
     ]
    }
   ],
   "source": [
    "print(\"knn mrr : \" , knn_mrr)\n",
    "print(\"faiss mrr : \" , faiss_mrr)\n",
    "print(\"bm25 mrr : \" , bm25_mrr)"
   ]
  },
  {
   "cell_type": "code",
   "execution_count": 10,
   "metadata": {},
   "outputs": [
    {
     "data": {
      "image/png": "[encoded data removed]",
      "text/plain": [
       "<Figure size 1400x600 with 2 Axes>"
      ]
     },
     "metadata": {},
     "output_type": "display_data"
    }
   ],
   "source": [
    "models = ['KNN+ TFIDF', 'SBERT + FAISS', 'BM25']\n",
    "accuracy_scores = [knn_accuracy / 10, faiss_accuracy / 10, bm25_accuracy / 10]\n",
    "\n",
    "mrr_scores = [knn_mrr , faiss_mrr , bm25_mrr]\n",
    "\n",
    "fig, axes = plt.subplots(1, 2, figsize=(14, 6), sharey=True)  # 1 row, 2 columns\n",
    "\n",
    "# Test 1 plot\n",
    "axes[0].bar(models, accuracy_scores, color = sns.color_palette('cubehelix'), width = 0.5)\n",
    "axes[0].set_title('Accuracy', fontsize=16, pad=10)\n",
    "axes[0].set_ylabel('Accuracy Score', fontsize=12)\n",
    "axes[0].set_xlabel('Model', fontsize=12)\n",
    "axes[0].set_ylim(0, 1)  # Assuming accuracy is between 0 and 1\n",
    "for i, score in enumerate(accuracy_scores):\n",
    "    axes[0].text(i, score + 0.02, f\"{score:.2f}\", ha='center', fontsize=10)\n",
    "\n",
    "# Test 2 plot\n",
    "axes[1].bar(models, mrr_scores, color = sns.color_palette('terrain'), width = 0.5)\n",
    "axes[1].set_title('MRR', fontsize=16, pad=10)\n",
    "axes[1].set_xlabel('Model', fontsize=12)\n",
    "for i, score in enumerate(mrr_scores):\n",
    "    axes[1].text(i, score + 0.02, f\"{score:.2f}\", ha='center', fontsize=10)\n",
    "\n",
    "# Adjust layout for better spacing\n",
    "plt.tight_layout()\n",
    "plt.show()"
   ]
  },
  {
   "cell_type": "code",
   "execution_count": 10,
   "metadata": {},
   "outputs": [],
   "source": [
    "# Tests for part 2 of the model : Question Answering"
   ]
  },
  {
   "cell_type": "code",
   "execution_count": 11,
   "metadata": {},
   "outputs": [
    {
     "data": {
      "application/vnd.jupyter.widget-view+json": {
       "model_id": "181d6592c1724ff5937958ecbd4b76a3",
       "version_major": 2,
       "version_minor": 0
      },
      "text/plain": [
       "config.json:   0%|          | 0.00/631 [00:00<?, ?B/s]"
      ]
     },
     "metadata": {},
     "output_type": "display_data"
    },
    {
     "name": "stderr",
     "output_type": "stream",
     "text": [
      "e:\\Anaconda\\Lib\\site-packages\\huggingface_hub\\file_download.py:139: UserWarning: `huggingface_hub` cache-system uses symlinks by default to efficiently store duplicated files but your machine does not support them in C:\\Users\\ASUS\\.cache\\huggingface\\hub\\models--dmis-lab--biobert-large-cased-v1.1-squad. Caching files will still work but in a degraded version that might require more space on your disk. This warning can be disabled by setting the `HF_HUB_DISABLE_SYMLINKS_WARNING` environment variable. For more details, see https://huggingface.co/docs/huggingface_hub/how-to-cache#limitations.\n",
      "To support symlinks on Windows, you either need to activate Developer Mode or to run Python as an administrator. In order to activate developer mode, see this article: https://docs.microsoft.com/en-us/windows/apps/get-started/enable-your-device-for-development\n",
      "  warnings.warn(message)\n"
     ]
    },
    {
     "data": {
      "application/vnd.jupyter.widget-view+json": {
       "model_id": "fcb5fc4dae134ac5a14592a94c49be00",
       "version_major": 2,
       "version_minor": 0
      },
      "text/plain": [
       "vocab.txt:   0%|          | 0.00/467k [00:00<?, ?B/s]"
      ]
     },
     "metadata": {},
     "output_type": "display_data"
    },
    {
     "data": {
      "application/vnd.jupyter.widget-view+json": {
       "model_id": "01c8fc88dcfc44bc8545e46046dfacef",
       "version_major": 2,
       "version_minor": 0
      },
      "text/plain": [
       "pytorch_model.bin:   0%|          | 0.00/1.45G [00:00<?, ?B/s]"
      ]
     },
     "metadata": {},
     "output_type": "display_data"
    }
   ],
   "source": [
    "qa_model_name = \"dmis-lab/biobert-large-cased-v1.1-squad\"\n",
    "tokenizer = AutoTokenizer.from_pretrained(qa_model_name)\n",
    "model = AutoModelForQuestionAnswering.from_pretrained(qa_model_name)\n",
    "qa_pipeline = pipeline(\"question-answering\", model=model, tokenizer=tokenizer)"
   ]
  },
  {
   "cell_type": "code",
   "execution_count": 12,
   "metadata": {},
   "outputs": [],
   "source": [
    "questions = []\n",
    "documents = []\n",
    "\n",
    "questions.append(\"What is Charlie Harlow's dosage?\")\n",
    "documents.append(docs[0])\n",
    "\n",
    "questions.append(\"What is the age of the patient with name Jenna Lundsten and has bladder cancer?\")\n",
    "documents.append(docs[113])\n",
    "\n",
    "questions.append(\"What was the procedure done for Richard Jasso, who had heavy tobacco abuse?\")\n",
    "documents.append(docs[793])\n",
    "\n",
    "questions.append(\"How did we obtain consent for surgery for Dorothy Robinson?\")\n",
    "documents.append(docs[818])\n",
    "\n",
    "questions.append(\"What is the procedure performed on the 55 year old female who is having a colonoscopy to screen for colon cancer?\")\n",
    "documents.append(docs[976])\n",
    "\n",
    "questions.append(\"What happened to the Michael Dunstan who takes hydrochlorothiazide for hypertension?\")\n",
    "documents.append(docs[13])\n",
    "\n",
    "questions.append(\"What is the operation done on Michael Neal?\")\n",
    "documents.append(docs[1162])\n",
    "\n",
    "questions.append(\"What is the medication given to Karen Lewis?\")\n",
    "documents.append(docs[1449])\n",
    "\n",
    "questions.append(\"What is the impression on Adam Juarez who took an MRI?\")\n",
    "documents.append(docs[1546])\n",
    "\n",
    "questions.append(\"What were the symptoms on Jason Olguin who was given amphotericin?\")\n",
    "documents.append(docs[1593])"
   ]
  },
  {
   "cell_type": "code",
   "execution_count": 13,
   "metadata": {},
   "outputs": [],
   "source": [
    "ground_truths = [\"Samples of Nasonex two sprays in each nostril given for three weeks.\", \"66-year-old\"\n",
    "                 , \"Right common femoral artery cannulation\", \"After risk of operation was explained to this patient's family\"\n",
    "                 , \"The tip of the endoscope was introduced into the rectum.\"\n",
    "                 , \"a hysterectomy done in 2000 and a gallbladder resection\"\n",
    "                 , \" Bilateral Myringotomy with placement of PE tubes\"\n",
    "                 , \"Ativan\"\n",
    "                 , \"mild degenerative\"\n",
    "                 , \"HA, nausea and vomiting\"]"
   ]
  },
  {
   "cell_type": "code",
   "execution_count": 14,
   "metadata": {},
   "outputs": [
    {
     "name": "stderr",
     "output_type": "stream",
     "text": [
      "e:\\Anaconda\\Lib\\site-packages\\transformers\\pipelines\\question_answering.py:391: FutureWarning: Passing a list of SQuAD examples to the pipeline is deprecated and will be removed in v5. Inputs should be passed using the `question` and `context` keyword arguments instead.\n",
      "  warnings.warn(\n"
     ]
    },
    {
     "data": {
      "application/vnd.jupyter.widget-view+json": {
       "model_id": "b372769d564e4437a186f8327064dd62",
       "version_major": 2,
       "version_minor": 0
      },
      "text/plain": [
       "model.safetensors:   0%|          | 0.00/1.45G [00:00<?, ?B/s]"
      ]
     },
     "metadata": {},
     "output_type": "display_data"
    }
   ],
   "source": [
    "predictions = []\n",
    "for i in range(len(questions)):\n",
    "    prediction = qa_pipeline({'question': questions[i], 'context': documents[i]})\n",
    "    predictions.append(prediction['answer'])"
   ]
  },
  {
   "cell_type": "code",
   "execution_count": 15,
   "metadata": {},
   "outputs": [],
   "source": [
    "def normalize_text(s):\n",
    "    def remove_articles(text):\n",
    "        return ' '.join([word for word in text.split() if word not in ('a', 'an', 'the')])\n",
    "    \n",
    "    def remove_punctuation(text):\n",
    "        return ''.join([char for char in text if char not in string.punctuation])\n",
    "    \n",
    "    def to_lower(text):\n",
    "        return text.lower()\n",
    "    \n",
    "    return remove_articles(remove_punctuation(to_lower(s))).strip()\n",
    "\n",
    "def compute_f1(prediction, ground_truth):\n",
    "    prediction_tokens = normalize_text(prediction).split()\n",
    "    ground_truth_tokens = normalize_text(ground_truth).split()\n",
    "    \n",
    "    common_tokens = Counter(prediction_tokens) & Counter(ground_truth_tokens)\n",
    "    number_of_matches = sum(common_tokens.values())\n",
    "    \n",
    "    if len(prediction_tokens) == 0 or len(ground_truth_tokens) == 0:\n",
    "        return 0\n",
    "    \n",
    "    if number_of_matches== 0:\n",
    "        return 0\n",
    "    \n",
    "    precision = number_of_matches / len(prediction_tokens)\n",
    "    recall = number_of_matches / len(ground_truth_tokens)\n",
    "    f1 = 2 * precision * recall / (precision + recall)\n",
    "    return f1\n",
    "\n",
    "def compute_average_f1(predictions, ground_truths):\n",
    "    assert len(predictions) == len(ground_truths), \"Number of predictions and ground truths must match.\"\n",
    "    f1_scores = [compute_f1(prediction, ground_truth) for prediction, ground_truth in zip(predictions, ground_truths)]\n",
    "    average_f1 = sum(f1_scores) / len(f1_scores)\n",
    "    return average_f1\n"
   ]
  },
  {
   "cell_type": "code",
   "execution_count": 16,
   "metadata": {},
   "outputs": [
    {
     "name": "stdout",
     "output_type": "stream",
     "text": [
      "F1 Score: 0.8\n"
     ]
    }
   ],
   "source": [
    "print(\"F1 Score: \" + str(compute_average_f1(predictions, ground_truths)))"
   ]
  }
 ],
 "metadata": {
  "kernelspec": {
   "display_name": "base",
   "language": "python",
   "name": "python3"
  },
  "language_info": {
   "codemirror_mode": {
    "name": "ipython",
    "version": 3
   },
   "file_extension": ".py",
   "mimetype": "text/x-python",
   "name": "python",
   "nbconvert_exporter": "python",
   "pygments_lexer": "ipython3",
   "version": "3.12.7"
  }
 },
 "nbformat": 4,
 "nbformat_minor": 2
}
