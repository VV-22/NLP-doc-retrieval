{
 "cells": [
  {
   "cell_type": "code",
   "execution_count": 54,
   "metadata": {},
   "outputs": [],
   "source": [
    "from joblib import dump, load\n",
    "import numpy as np\n",
    "import matplotlib.pyplot as plt\n",
    "import seaborn as sns\n",
    "import pandas as pd"
   ]
  },
  {
   "cell_type": "code",
   "execution_count": 2,
   "metadata": {},
   "outputs": [],
   "source": [
    "TFIDFEmbedding = load(\"TFIDFEmbedding.joblib\")\n",
    "KNNModel = load(\"KNNModel.joblib\")\n",
    "\n",
    "sbert = load(\"sbert.joblib\")\n",
    "faiss = load(\"faiss.joblib\")\n",
    "\n",
    "bm25 = load(\"bm25.joblib\")"
   ]
  },
  {
   "cell_type": "code",
   "execution_count": 3,
   "metadata": {},
   "outputs": [],
   "source": [
    "questions = []\n",
    "answers = []\n",
    "\n",
    "questions.append(\"What is Charlie Harlow's dosage?\")\n",
    "answers.append(0)\n",
    "\n",
    "questions.append(\"What is the age of the patient with name Jenna Lundsten and has bladder cancer?\")\n",
    "answers.append(113)\n",
    "\n",
    "questions.append(\"What was the procedure done for Richard Jasso, who had heavy tobacco abuse?\")\n",
    "answers.append(793)\n",
    "\n",
    "questions.append(\"How did we obtain consent for surgery for Dorothy Robinson?\")\n",
    "answers.append(818)\n",
    "\n",
    "questions.append(\"What is the procedure performed on the 55 year old female who is having a colonoscopy to screen for colon cancer?\")\n",
    "answers.append(976)\n",
    "\n",
    "questions.append(\"What happened to the Michael Dunstan who takes hydrochlorothiazide for hypertension?\")\n",
    "answers.append(13)\n",
    "\n",
    "questions.append(\"What is the operation done on Michael Neal?\")\n",
    "answers.append(1162)\n",
    "\n",
    "questions.append(\"What is the medication given to Karen Lewis?\")\n",
    "answers.append(1449)\n",
    "\n",
    "questions.append(\"What is the impression on Adam Juarez who took an MRI?\")\n",
    "answers.append(1546)\n",
    "\n",
    "questions.append(\"What were the symptoms on Jason Olguin who was given amphotericin?\")\n",
    "answers.append(1593)\n"
   ]
  },
  {
   "cell_type": "code",
   "execution_count": 4,
   "metadata": {},
   "outputs": [],
   "source": [
    "knn_answers = []\n",
    "faiss_answers = []\n",
    "bm25_answers = []\n",
    "for question in questions: \n",
    "    # TFIDF + KNN\n",
    "    tfidf = TFIDFEmbedding.transform([question])\n",
    "    knn_ans = KNNModel.kneighbors(tfidf , return_distance=False)\n",
    "    knn_answers.append(knn_ans)\n",
    "\n",
    "    # SBERT + FAISS\n",
    "    sbert_embedding = sbert.encode([question]).astype('float32')\n",
    "    dustabces, indices = faiss.search(sbert_embedding , 10)\n",
    "    faiss_answers.append(indices)\n",
    "\n",
    "    # BM25\n",
    "    bm_tokens = question.lower().split()\n",
    "    bm_scores = np.argsort(bm25.get_scores(bm_tokens))[::-1][:10]\n",
    "    bm25_answers.append(bm_scores)\n"
   ]
  },
  {
   "cell_type": "code",
   "execution_count": 5,
   "metadata": {},
   "outputs": [
    {
     "data": {
      "text/plain": [
       "[array([[1312, 3694, 4104, 3194, 3363, 1390, 4168, 1804, 3148, 1705]],\n",
       "       dtype=int64),\n",
       " array([[ 215,   38,  113,  715, 1149,  171,  139,  931,  173, 4523]],\n",
       "       dtype=int64),\n",
       " array([[1970, 1966, 3533, 1791, 4538, 3739, 4459, 4785, 3302, 4327]],\n",
       "       dtype=int64),\n",
       " array([[1853, 2657, 4529, 4952, 3951, 4916,  818, 3673,  264, 2176]],\n",
       "       dtype=int64),\n",
       " array([[ 976, 3610, 3158, 3626, 4486, 3613,  985,  973, 3600, 4452]],\n",
       "       dtype=int64),\n",
       " array([[  13, 1947, 3392, 4444, 4381, 1366, 3285, 2437, 2375, 3396]],\n",
       "       dtype=int64),\n",
       " array([[1932, 1977, 1947, 1619, 1162, 4718, 1961,  690, 1945, 1741]],\n",
       "       dtype=int64),\n",
       " array([[3324, 4357,   73, 1320, 4104, 3194, 2776, 4232, 2414, 1754]],\n",
       "       dtype=int64),\n",
       " array([[2134, 1817, 1591, 2932, 4502, 2797, 1558, 1547, 2796, 1551]],\n",
       "       dtype=int64),\n",
       " array([[2041, 4106, 2094, 2761, 1536, 4163, 2074, 4565, 4322, 3501]],\n",
       "       dtype=int64)]"
      ]
     },
     "execution_count": 5,
     "metadata": {},
     "output_type": "execute_result"
    }
   ],
   "source": [
    "knn_answers"
   ]
  },
  {
   "cell_type": "code",
   "execution_count": 6,
   "metadata": {},
   "outputs": [
    {
     "data": {
      "text/plain": [
       "[array([[2151,    0, 1784, 4819, 3944, 4381, 4257, 3170, 3183, 1742]],\n",
       "       dtype=int64),\n",
       " array([[ 113, 2253, 2996, 3584,  140, 3151, 4241, 4488, 3084, 3022]],\n",
       "       dtype=int64),\n",
       " array([[4126,  247, 2941, 3847, 3423, 4070, 4353, 4555, 3406, 3195]],\n",
       "       dtype=int64),\n",
       " array([[2409,  818, 3418, 4455,  367, 1132, 4574,  592, 4043, 1967]],\n",
       "       dtype=int64),\n",
       " array([[3613,  985, 4455, 4486, 3158, 3626, 3608, 3584,  976,  731]],\n",
       "       dtype=int64),\n",
       " array([[  13, 3777, 4083, 3396, 2833, 3813, 2973, 4665, 4268, 4238]],\n",
       "       dtype=int64),\n",
       " array([[ 164,  752, 1947,  500,  407, 2309,   96, 2204, 1832, 4725]],\n",
       "       dtype=int64),\n",
       " array([[4257, 4465, 1449, 2141, 3591, 4731, 4374, 3357, 2907, 3329]],\n",
       "       dtype=int64),\n",
       " array([[2797, 1019,  118, 1558, 4578, 1679, 2737, 4447, 3405, 3055]],\n",
       "       dtype=int64),\n",
       " array([[1593, 4264, 2446, 3213, 2959, 3823,  118, 3235, 4363, 1353]],\n",
       "       dtype=int64)]"
      ]
     },
     "execution_count": 6,
     "metadata": {},
     "output_type": "execute_result"
    }
   ],
   "source": [
    "faiss_answers"
   ]
  },
  {
   "cell_type": "code",
   "execution_count": 7,
   "metadata": {},
   "outputs": [
    {
     "data": {
      "text/plain": [
       "[array([1494, 2288,    0, 4430, 1395, 3958, 4057, 3317, 1096, 3301],\n",
       "       dtype=int64),\n",
       " array([ 113,   73, 1320, 1762, 4124, 1771, 4133, 1777, 4144, 4518],\n",
       "       dtype=int64),\n",
       " array([ 793, 3302, 4327, 2606,  567, 4459, 3739, 3196, 4108, 4768],\n",
       "       dtype=int64),\n",
       " array([4043, 4524, 2144,  568, 2673, 4529, 4952, 3353,  129, 4391],\n",
       "       dtype=int64),\n",
       " array([3610,  976, 3331, 4368, 4472, 3409,  962, 3594, 3158, 3626],\n",
       "       dtype=int64),\n",
       " array([  13, 4381, 3392, 4444, 4551, 4394, 2854, 3409, 4472, 1354],\n",
       "       dtype=int64),\n",
       " array([4551, 1317, 3584, 4455, 2417, 1419, 4167, 2678, 2214,  798],\n",
       "       dtype=int64),\n",
       " array([2414,  926, 4965, 1704, 3294, 3247, 4289, 3249, 4252, 1470],\n",
       "       dtype=int64),\n",
       " array([1546, 2732, 2968, 1033, 4252, 1361, 3281, 4313, 1914, 3310],\n",
       "       dtype=int64),\n",
       " array([1593, 1203,  276, 1292, 1632, 1126,  139,  931, 3844, 4554],\n",
       "       dtype=int64)]"
      ]
     },
     "execution_count": 7,
     "metadata": {},
     "output_type": "execute_result"
    }
   ],
   "source": [
    "bm25_answers"
   ]
  },
  {
   "cell_type": "code",
   "execution_count": null,
   "metadata": {},
   "outputs": [
    {
     "name": "stdout",
     "output_type": "stream",
     "text": [
      "faiss index :  2\n",
      "bm index :  3\n",
      "knn index :  3\n",
      "faiss index :  1\n",
      "bm index :  1\n",
      "bm index :  1\n",
      "knn index :  7\n",
      "faiss index :  2\n",
      "knn index :  1\n",
      "faiss index :  9\n",
      "bm index :  2\n",
      "knn index :  1\n",
      "faiss index :  1\n",
      "bm index :  1\n",
      "knn index :  5\n",
      "faiss index :  3\n",
      "bm index :  1\n",
      "faiss index :  1\n",
      "bm index :  1\n"
     ]
    }
   ],
   "source": [
    "# Accuracy scores:\n",
    "faiss_accuracy = 0\n",
    "bm25_accuracy = 0\n",
    "knn_accuracy = 0\n",
    "\n",
    "faiss_inverse = 0\n",
    "bm25_inverse = 0\n",
    "knn_inverse = 0\n",
    "\n",
    "for i in range(0, 10, 1):\n",
    "    if(answers[i] in knn_answers[i]):\n",
    "        knn_accuracy+=1\n",
    "        knn_index = knn_answers[i].tolist()[0].index(answers[i]) + 1\n",
    "        knn_inverse += (1/knn_index)\n",
    "    if(answers[i] in faiss_answers[i]):\n",
    "        faiss_accuracy+=1\n",
    "        faiss_index = faiss_answers[i].tolist()[0].index(answers[i]) + 1\n",
    "        faiss_inverse += (1/faiss_index)\n",
    "    if(answers[i] in bm25_answers[i]):\n",
    "        bm25_accuracy+=1\n",
    "        bm_index = bm25_answers[i].tolist().index(answers[i]) + 1\n",
    "        bm25_inverse += (1/bm_index)"
   ]
  },
  {
   "cell_type": "code",
   "execution_count": 22,
   "metadata": {},
   "outputs": [
    {
     "data": {
      "text/plain": [
       "7"
      ]
     },
     "execution_count": 22,
     "metadata": {},
     "output_type": "execute_result"
    }
   ],
   "source": [
    "faiss_accuracy"
   ]
  },
  {
   "cell_type": "code",
   "execution_count": 10,
   "metadata": {},
   "outputs": [
    {
     "data": {
      "text/plain": [
       "7"
      ]
     },
     "execution_count": 10,
     "metadata": {},
     "output_type": "execute_result"
    }
   ],
   "source": [
    "bm25_accuracy"
   ]
  },
  {
   "cell_type": "code",
   "execution_count": 12,
   "metadata": {},
   "outputs": [
    {
     "data": {
      "text/plain": [
       "5"
      ]
     },
     "execution_count": 12,
     "metadata": {},
     "output_type": "execute_result"
    }
   ],
   "source": [
    "knn_accuracy"
   ]
  },
  {
   "cell_type": "code",
   "execution_count": 42,
   "metadata": {},
   "outputs": [
    {
     "data": {
      "text/plain": [
       "5.833333333333333"
      ]
     },
     "execution_count": 42,
     "metadata": {},
     "output_type": "execute_result"
    }
   ],
   "source": [
    "bm25_inverse"
   ]
  },
  {
   "cell_type": "code",
   "execution_count": 46,
   "metadata": {},
   "outputs": [],
   "source": [
    "knn_mrr = knn_inverse / len(answers)\n",
    "faiss_mrr = faiss_inverse / len(answers)\n",
    "bm25_mrr = bm25_inverse / len(answers)"
   ]
  },
  {
   "cell_type": "code",
   "execution_count": 49,
   "metadata": {},
   "outputs": [
    {
     "name": "stdout",
     "output_type": "stream",
     "text": [
      "knn mrr :  0.26761904761904765\n",
      "faiss mrr :  0.4444444444444445\n",
      "bm25 mrr :  0.5833333333333333\n"
     ]
    }
   ],
   "source": [
    "print(\"knn mrr : \" , knn_mrr)\n",
    "print(\"faiss mrr : \" , faiss_mrr)\n",
    "print(\"bm25 mrr : \" , bm25_mrr)"
   ]
  },
  {
   "cell_type": "code",
   "execution_count": 72,
   "metadata": {},
   "outputs": [
    {
     "data": {
      "image/png": "[encoded data removed]",
      "text/plain": [
       "<Figure size 600x1000 with 2 Axes>"
      ]
     },
     "metadata": {},
     "output_type": "display_data"
    }
   ],
   "source": [
    "models = ['KNN+ TFIDF', 'SBERT + FAISS', 'BM25']\n",
    "accuracy_scores = [knn_accuracy / 10, faiss_accuracy / 10, bm25_accuracy / 10]\n",
    "\n",
    "mrr_scores = [knn_mrr , faiss_mrr , bm25_mrr]\n",
    "\n",
    "fig, axes = plt.subplots(2, 1, figsize=(6, 10), sharey=True)  # 1 row, 2 columns\n",
    "\n",
    "# Test 1 plot\n",
    "axes[0].bar(models, accuracy_scores, color = sns.color_palette('cubehelix'), width = 0.5)\n",
    "axes[0].set_title('Accuracy', fontsize=16, pad=10)\n",
    "axes[0].set_ylabel('Accuracy Score', fontsize=12)\n",
    "axes[0].set_xlabel('Model', fontsize=12)\n",
    "axes[0].set_ylim(0, 1)  # Assuming accuracy is between 0 and 1\n",
    "for i, score in enumerate(accuracy_scores):\n",
    "    axes[0].text(i, score + 0.02, f\"{score:.2f}\", ha='center', fontsize=10)\n",
    "\n",
    "# Test 2 plot\n",
    "axes[1].bar(models, mrr_scores, color = sns.color_palette('terrain'), width = 0.5)\n",
    "axes[1].set_title('MRR', fontsize=16, pad=10)\n",
    "axes[1].set_xlabel('Model', fontsize=12)\n",
    "for i, score in enumerate(mrr_scores):\n",
    "    axes[1].text(i, score + 0.02, f\"{score:.2f}\", ha='center', fontsize=10)\n",
    "\n",
    "# Adjust layout for better spacing\n",
    "plt.tight_layout()\n",
    "plt.show()"
   ]
  },
  {
   "cell_type": "code",
   "execution_count": null,
   "metadata": {},
   "outputs": [],
   "source": []
  }
 ],
 "metadata": {
  "kernelspec": {
   "display_name": "base",
   "language": "python",
   "name": "python3"
  },
  "language_info": {
   "codemirror_mode": {
    "name": "ipython",
    "version": 3
   },
   "file_extension": ".py",
   "mimetype": "text/x-python",
   "name": "python",
   "nbconvert_exporter": "python",
   "pygments_lexer": "ipython3",
   "version": "3.12.7"
  }
 },
 "nbformat": 4,
 "nbformat_minor": 2
}
